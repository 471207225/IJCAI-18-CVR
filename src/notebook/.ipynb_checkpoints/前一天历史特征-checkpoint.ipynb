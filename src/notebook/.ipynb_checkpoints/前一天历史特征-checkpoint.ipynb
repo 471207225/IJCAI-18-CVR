{
 "cells": [
  {
   "cell_type": "code",
   "execution_count": 1,
   "metadata": {
    "collapsed": true
   },
   "outputs": [],
   "source": [
    "import pandas as pd\n",
    "import gc\n",
    "from sklearn import preprocessing\n",
    "import time\n",
    "import math\n",
    "import pickle\n",
    "PERIOD = 1"
   ]
  },
  {
   "cell_type": "code",
   "execution_count": 2,
   "metadata": {
    "collapsed": true
   },
   "outputs": [],
   "source": [
    "total =  pickle.load(open('../../data/raw/total_high_level.pkl','rb+'))\n",
    "total = total.reset_index(drop=True)"
   ]
  },
  {
   "cell_type": "code",
   "execution_count": 3,
   "metadata": {
    "collapsed": true
   },
   "outputs": [],
   "source": [
    "#def timestamp_datetime(value):\n",
    "#    format = '%Y-%m-%d %H:%M:%S'\n",
    "#    value = time.localtime(value)\n",
    "#    dt = time.strftime(format, value)\n",
    "#    return dt\n",
    "#total['context_timestamp'] = total['context_timestamp'].apply(timestamp_datetime)\n",
    "#total['context_timestamp'] = pd.to_datetime(total['context_timestamp'])\n",
    "#total[\"day\"] = total[\"context_timestamp\"].dt.day\n",
    "#total[\"hour\"] = total[\"context_timestamp\"].dt.hour"
   ]
  },
  {
   "cell_type": "code",
   "execution_count": 4,
   "metadata": {
    "collapsed": true
   },
   "outputs": [],
   "source": [
    "#得到特定日期\n",
    "def split_data_set(data,day):\n",
    "    return data.loc[(data[\"day\"]==day),[\"user_id\",\"shop_id\",\"item_id\",\"item_brand_id\",\"is_trade\",\"context_timestamp\"]]\n",
    "#得到时间段\n",
    "def split_data_set_period(data,start):\n",
    "    return data.loc[data[\"day\"]==start,[\"user_id\",\"shop_id\",\"item_id\",\"item_brand_id\",\"is_trade\",\"context_timestamp\"]]"
   ]
  },
  {
   "cell_type": "code",
   "execution_count": 5,
   "metadata": {
    "collapsed": true
   },
   "outputs": [],
   "source": [
    "def compute_average_gap(data,feature_name):\n",
    "    data.sort_values(by=[feature_name, 'context_timestamp'], inplace=True)\n",
    "    data[\"{}+visited_time_gap\".format(feature_name)] = data.groupby([feature_name])['context_timestamp'].diff()\n",
    "    data[\"{}+visited_time_gap\".format(feature_name)] = data[\"{}+visited_time_gap\".format(feature_name)].dt.seconds\n",
    "    df = data.groupby([feature_name])[\"{}+visited_time_gap\".format(feature_name)].mean()\n",
    "    result = pd.DataFrame({feature_name:df.index, 'average_{}_visited_time_gap'.format(feature_name):df.values})\n",
    "    result = result.fillna(-1)\n",
    "    data.pop(\"{}+visited_time_gap\".format(feature_name))\n",
    "    return result"
   ]
  },
  {
   "cell_type": "code",
   "execution_count": 6,
   "metadata": {
    "collapsed": true
   },
   "outputs": [],
   "source": [
    "def count_features(data,feature_name):\n",
    "    df = data[feature_name].value_counts()\n",
    "    result = pd.DataFrame({feature_name:df.index, 'count_{}'.format(feature_name):df.values})\n",
    "    result = result.fillna(-1)\n",
    "    return result"
   ]
  },
  {
   "cell_type": "code",
   "execution_count": 7,
   "metadata": {
    "collapsed": true
   },
   "outputs": [],
   "source": [
    "def compute_ctr(data,feature_name):\n",
    "    df = data.groupby([feature_name])[\"is_trade\"].mean()\n",
    "    result = pd.DataFrame({feature_name:df.index, 'ctr_{}'.format(feature_name):df.values})\n",
    "    result = result.fillna(-1)\n",
    "    return result"
   ]
  },
  {
   "cell_type": "code",
   "execution_count": 8,
   "metadata": {
    "collapsed": true
   },
   "outputs": [],
   "source": [
    "def get_features(data, target_day):\n",
    "    target_features = split_data_set(data, target_day)\n",
    "    \n",
    "    print(target_features.shape)\n",
    "    if day == 1:\n",
    "        history_features = split_data_set_period(data, 31)\n",
    "    else:\n",
    "        history_features = split_data_set_period(data, target_day-PERIOD)\n",
    "    \n",
    "    for feature_name in [\"user_id\",\"shop_id\",\"item_id\",\"item_brand_id\"]:\n",
    "        print(feature_name)\n",
    "        #点击量\n",
    "        df_count_features = count_features(history_features, feature_name)\n",
    "        #平均点击间隔\n",
    "        df_average_vististed_gap = compute_average_gap(history_features,feature_name)\n",
    "        #CTR\n",
    "        df_ctr = compute_ctr(history_features, feature_name)\n",
    "        #拼接\n",
    "        target_features = target_features.reset_index().merge(df_count_features,on=feature_name, how=\"left\").set_index(\"index\")\n",
    "        target_features = target_features.reset_index().merge(df_average_vististed_gap,on=feature_name, how=\"left\").set_index(\"index\")\n",
    "        target_features = target_features.reset_index().merge(df_ctr,on=feature_name, how=\"left\").set_index(\"index\")\n",
    "    print(target_features.shape)\n",
    "    target_features = target_features.fillna(-1)\n",
    "    return target_features"
   ]
  },
  {
   "cell_type": "code",
   "execution_count": 9,
   "metadata": {},
   "outputs": [
    {
     "name": "stdout",
     "output_type": "stream",
     "text": [
      "7\n",
      "(1597063, 6)\n",
      "user_id\n",
      "shop_id\n",
      "item_id\n",
      "item_brand_id\n",
      "(1597063, 18)\n"
     ]
    }
   ],
   "source": [
    "features = total.loc[:,[\"hour\",\"instance_id\",\"is_trade\",\"day\",\"context_timestamp\",\"user_id\",\"shop_id\",\"item_id\",\"item_brand_id\"]]\n",
    "global_feature = pd.DataFrame()\n",
    "for day in [7]:\n",
    "    print(day)\n",
    "    df = get_features(features, day)\n",
    "    global_feature = pd.concat([global_feature,df])"
   ]
  },
  {
   "cell_type": "code",
   "execution_count": null,
   "metadata": {
    "collapsed": true
   },
   "outputs": [],
   "source": [
    "global_feature.pop(\"user_id\")\n",
    "global_feature.pop(\"context_timestamp\")\n",
    "global_feature.pop(\"shop_id\")\n",
    "global_feature.pop(\"item_id\")\n",
    "global_feature.pop(\"item_brand_id\")\n",
    "global_feature = global_feature.sort_index()"
   ]
  },
  {
   "cell_type": "code",
   "execution_count": 14,
   "metadata": {
    "collapsed": true
   },
   "outputs": [],
   "source": [
    "global_feature[\"is_trade\"] = total.loc[total[\"day\"]==7][\"is_trade\"]"
   ]
  },
  {
   "cell_type": "code",
   "execution_count": 15,
   "metadata": {
    "collapsed": true
   },
   "outputs": [],
   "source": [
    "global_feature.to_pickle('../../data/processed/preday_history_feature.pkl')"
   ]
  },
  {
   "cell_type": "code",
   "execution_count": 16,
   "metadata": {},
   "outputs": [
    {
     "data": {
      "text/plain": [
       "1597063"
      ]
     },
     "execution_count": 16,
     "metadata": {},
     "output_type": "execute_result"
    }
   ],
   "source": [
    "len(global_feature)"
   ]
  },
  {
   "cell_type": "code",
   "execution_count": null,
   "metadata": {
    "collapsed": true
   },
   "outputs": [],
   "source": []
  },
  {
   "cell_type": "code",
   "execution_count": null,
   "metadata": {
    "collapsed": true
   },
   "outputs": [],
   "source": []
  }
 ],
 "metadata": {
  "kernelspec": {
   "display_name": "Python 3",
   "language": "python",
   "name": "python3"
  },
  "language_info": {
   "codemirror_mode": {
    "name": "ipython",
    "version": 3
   },
   "file_extension": ".py",
   "mimetype": "text/x-python",
   "name": "python",
   "nbconvert_exporter": "python",
   "pygments_lexer": "ipython3",
   "version": "3.6.3"
  }
 },
 "nbformat": 4,
 "nbformat_minor": 2
}
