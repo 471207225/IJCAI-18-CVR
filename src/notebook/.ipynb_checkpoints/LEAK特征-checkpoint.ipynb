{
 "cells": [
  {
   "cell_type": "code",
   "execution_count": 1,
   "metadata": {
    "collapsed": true
   },
   "outputs": [],
   "source": [
    "import pandas as pd\n",
    "import gc\n",
    "from sklearn import preprocessing\n",
    "import time\n",
    "import numpy as np\n",
    "import pickle"
   ]
  },
  {
   "cell_type": "code",
   "execution_count": 2,
   "metadata": {
    "collapsed": true
   },
   "outputs": [],
   "source": [
    "total =  pickle.load(open('../../data/raw/total_high_level.pkl','rb+'))\n",
    "total = total.reset_index(drop=True)"
   ]
  },
  {
   "cell_type": "code",
   "execution_count": 3,
   "metadata": {
    "collapsed": true
   },
   "outputs": [],
   "source": [
    "#def timestamp_datetime(value):\n",
    "#    format = '%Y-%m-%d %H:%M:%S'\n",
    "#    value = time.localtime(value)\n",
    "#    dt = time.strftime(format, value)\n",
    "#    return dt\n",
    "#total['context_timestamp'] = total['context_timestamp'].apply(timestamp_datetime)\n",
    "#total['context_timestamp'] = pd.to_datetime(total['context_timestamp'])\n",
    "#total[\"day\"] = total[\"context_timestamp\"].dt.day\n",
    "#total[\"hour\"] = total[\"context_timestamp\"].dt.hour"
   ]
  },
  {
   "cell_type": "code",
   "execution_count": 4,
   "metadata": {
    "collapsed": true
   },
   "outputs": [],
   "source": [
    "def visited_shop(x):\n",
    "    path = \"\"\n",
    "    if np.isnan(x[\"shop_id_0\"]):\n",
    "        return str(-1)\n",
    "    elif x[\"shop_id_0\"] == 0:\n",
    "        path += \"1\"\n",
    "    else:\n",
    "        path += \"0\"\n",
    "        \n",
    "    if np.isnan(x[\"shop_id_1\"]):\n",
    "        return path;\n",
    "    elif x[\"shop_id_1\"] == 0:\n",
    "        path += \"1\"\n",
    "    else:\n",
    "        path += \"0\"\n",
    "\n",
    "    if np.isnan(x[\"shop_id_2\"]):\n",
    "        return path;\n",
    "    elif x[\"shop_id_2\"] == 0:\n",
    "        path += \"1\"\n",
    "    else:\n",
    "        path += \"0\"\n",
    "        \n",
    "        \n",
    "    if np.isnan(x[\"shop_id_3\"]):\n",
    "        return path;\n",
    "    elif x[\"shop_id_3\"] == 0:\n",
    "        path += \"1\"\n",
    "    else:\n",
    "        path += \"0\"\n",
    "\n",
    "    return path\n",
    "\n",
    "def visited_item(x):\n",
    "    path = \"\"\n",
    "    if np.isnan(x[\"item_id_0\"]):\n",
    "        return str(-1)\n",
    "    elif x[\"item_id_0\"] == 0:\n",
    "        path += \"1\"\n",
    "    else:\n",
    "        path += \"0\"\n",
    "        \n",
    "    if np.isnan(x[\"item_id_1\"]):\n",
    "        return path;\n",
    "    elif x[\"item_id_1\"] == 0:\n",
    "        path += \"1\"\n",
    "    else:\n",
    "        path += \"0\"\n",
    "        \n",
    "    if np.isnan(x[\"item_id_2\"]):\n",
    "        return path;\n",
    "    elif x[\"item_id_2\"] == 0:\n",
    "        path += \"1\"\n",
    "    else:\n",
    "        path += \"0\"\n",
    "    return path\n",
    "def get_current_click_history(data):\n",
    "    #最近两次时间差\n",
    "    data.sort_values(by=['user_id', 'context_timestamp'], inplace=True)\n",
    "    data['negative_seconds_gap'] = data.groupby(['user_id'])['context_timestamp'].diff(-1)\n",
    "    data[\"negative_seconds_gap\"] = data[\"negative_seconds_gap\"].dt.seconds.map(lambda x: 86400 - x if x!=0 else 0)\n",
    "    data[\"negative_seconds_gap\"] = data[\"negative_seconds_gap\"].fillna(-1)\n",
    "\n",
    "    #\n",
    "    data['negative_is_same_shop_id'] = data.groupby(['user_id'])['shop_id'].diff(-1)\n",
    "    data[\"negative_is_same_shop_id\"] = data[\"negative_is_same_shop_id\"].map(lambda x:  0 if x != 0 else 1)\n",
    "    data[\"negative_is_same_shop_id\"] = data[\"negative_is_same_shop_id\"].fillna(-1)\n",
    "    \n",
    "    data['negative_is_same_item_id'] = data.groupby(['user_id'])['item_id'].diff(-1)\n",
    "    data[\"negative_is_same_item_id\"] = data[\"negative_is_same_item_id\"].map(lambda x:  0 if x != 0 else 1)\n",
    "    data[\"negative_is_same_item_id\"] = data[\"negative_is_same_item_id\"].fillna(-1)\n",
    "    \n",
    "    \n",
    "    #前3次访问shop_id的路径\n",
    "\n",
    "    data['shop_id_0'] = data.groupby(['user_id'])['shop_id'].diff(-1)\n",
    "    data['shop_id_1'] = data.groupby(['user_id'])['shop_id'].diff(-2)\n",
    "    data['shop_id_2'] = data.groupby(['user_id'])['shop_id'].diff(-3)\n",
    "    data['shop_id_3'] = data.groupby(['user_id'])['shop_id'].diff(-4)\n",
    "\n",
    "    data[\"negative_visited_shop\"] = data.apply(lambda x: visited_shop(x), axis=1)\n",
    "    \n",
    "    data.pop(\"shop_id_0\")\n",
    "    data.pop(\"shop_id_1\")\n",
    "    data.pop(\"shop_id_2\")\n",
    "    data.pop(\"shop_id_3\")\n",
    "    lbl = preprocessing.LabelEncoder()\n",
    "    data[\"negative_visited_shop\"] = lbl.fit_transform(data['negative_visited_shop'])\n",
    "\n",
    "\n",
    "    #前3次访问item_id的路径\n",
    "    data['item_id_0'] = data.groupby(['user_id'])['item_id'].diff(-1)\n",
    "    data['item_id_1'] = data.groupby(['user_id'])['item_id'].diff(-2)\n",
    "    data['item_id_2'] = data.groupby(['user_id'])['item_id'].diff(-3)\n",
    "\n",
    "    data[\"negative_visited_item\"] = data.apply(lambda x: visited_item(x), axis=1)\n",
    "    \n",
    "    data.pop(\"item_id_0\")\n",
    "    data.pop(\"item_id_1\")\n",
    "    data.pop(\"item_id_2\")\n",
    "    lbl = preprocessing.LabelEncoder()\n",
    "    data[\"negative_visited_item\"] = lbl.fit_transform(data['negative_visited_item'])\n",
    "\n",
    "    return data"
   ]
  },
  {
   "cell_type": "code",
   "execution_count": 5,
   "metadata": {
    "collapsed": true
   },
   "outputs": [],
   "source": [
    "data = total.loc[(total[\"context_timestamp\"] >= \"20180907\"),\n",
    "              [\"instance_id\",\"context_timestamp\",\"user_id\",\"is_trade\",\"day\",\"shop_id\",\"item_id\"]]"
   ]
  },
  {
   "cell_type": "code",
   "execution_count": 6,
   "metadata": {},
   "outputs": [
    {
     "name": "stdout",
     "output_type": "stream",
     "text": [
      "7\n"
     ]
    }
   ],
   "source": [
    "current_click_history = pd.DataFrame()\n",
    "for day in [7]:\n",
    "    print(day)\n",
    "    target_data = data.loc[data[\"day\"]==day,[\"context_timestamp\",\"user_id\",\"instance_id\",\"is_trade\",\"shop_id\",\"item_id\"]]\n",
    "    target_data = get_current_click_history(target_data)\n",
    "    current_click_history = pd.concat([current_click_history,target_data])"
   ]
  },
  {
   "cell_type": "code",
   "execution_count": 7,
   "metadata": {
    "collapsed": true
   },
   "outputs": [],
   "source": [
    "current_click_history.pop(\"item_id\")\n",
    "current_click_history.pop(\"shop_id\")\n",
    "current_click_history.pop(\"user_id\")\n",
    "current_click_history.pop(\"instance_id\")\n",
    "current_click_history.pop(\"context_timestamp\")\n",
    "current_click_history = current_click_history.sort_index()"
   ]
  },
  {
   "cell_type": "code",
   "execution_count": 8,
   "metadata": {
    "collapsed": true
   },
   "outputs": [],
   "source": [
    "current_click_history.to_pickle('../../data/processed/leak_feature.pkl')"
   ]
  },
  {
   "cell_type": "code",
   "execution_count": 10,
   "metadata": {},
   "outputs": [
    {
     "data": {
      "text/plain": [
       "(1597063, 6)"
      ]
     },
     "execution_count": 10,
     "metadata": {},
     "output_type": "execute_result"
    }
   ],
   "source": [
    "current_click_history.shape"
   ]
  },
  {
   "cell_type": "code",
   "execution_count": null,
   "metadata": {
    "collapsed": true
   },
   "outputs": [],
   "source": []
  },
  {
   "cell_type": "code",
   "execution_count": null,
   "metadata": {
    "collapsed": true
   },
   "outputs": [],
   "source": []
  },
  {
   "cell_type": "code",
   "execution_count": null,
   "metadata": {
    "collapsed": true
   },
   "outputs": [],
   "source": []
  }
 ],
 "metadata": {
  "kernelspec": {
   "display_name": "Python 3",
   "language": "python",
   "name": "python3"
  },
  "language_info": {
   "codemirror_mode": {
    "name": "ipython",
    "version": 3
   },
   "file_extension": ".py",
   "mimetype": "text/x-python",
   "name": "python",
   "nbconvert_exporter": "python",
   "pygments_lexer": "ipython3",
   "version": "3.6.3"
  }
 },
 "nbformat": 4,
 "nbformat_minor": 2
}
