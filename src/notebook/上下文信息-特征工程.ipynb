{
 "cells": [
  {
   "cell_type": "code",
   "execution_count": 1,
   "metadata": {
    "collapsed": true
   },
   "outputs": [],
   "source": [
    "import pandas as pd\n",
    "import gc\n",
    "from sklearn import preprocessing\n",
    "import time\n",
    "import math\n",
    "import pickle\n",
    "import numpy as np"
   ]
  },
  {
   "cell_type": "code",
   "execution_count": 2,
   "metadata": {
    "collapsed": true
   },
   "outputs": [],
   "source": [
    "total =  pickle.load(open('../../data/raw/total_high_level.pkl','rb+'))\n",
    "total = total.reset_index(drop=True)"
   ]
  },
  {
   "cell_type": "code",
   "execution_count": 3,
   "metadata": {
    "collapsed": true
   },
   "outputs": [],
   "source": [
    "#def timestamp_datetime(value):\n",
    "#    format = '%Y-%m-%d %H:%M:%S'\n",
    "#    value = time.localtime(value)\n",
    "#    dt = time.strftime(format, value)\n",
    "#    return dt\n",
    "#total['context_timestamp'] = total['context_timestamp'].apply(timestamp_datetime)\n",
    "#total['context_timestamp'] = pd.to_datetime(total['context_timestamp'])\n",
    "#total[\"day\"] = total[\"context_timestamp\"].dt.day\n",
    "#total[\"hour\"] = total[\"context_timestamp\"].dt.hour"
   ]
  },
  {
   "cell_type": "code",
   "execution_count": 7,
   "metadata": {
    "collapsed": true
   },
   "outputs": [],
   "source": [
    "data = total.loc[(total[\"context_timestamp\"] >= \"20180907\"),\n",
    "               [\"hour\",\"day\",\"context_timestamp\",\"context_page_id\",\"predict_category_property\",\"item_property_list\",\"item_category_list\",\"is_trade\"]]"
   ]
  },
  {
   "cell_type": "code",
   "execution_count": 8,
   "metadata": {
    "collapsed": true
   },
   "outputs": [],
   "source": [
    "#data = pd.get_dummies(data, columns=['hour'])\n",
    "data = pd.get_dummies(data, columns=['day'])"
   ]
  },
  {
   "cell_type": "code",
   "execution_count": 9,
   "metadata": {},
   "outputs": [
    {
     "name": "stdout",
     "output_type": "stream",
     "text": [
      "计算：property_num完毕\n",
      "计算：category_num完毕\n",
      "计算：predict_category_num完毕\n"
     ]
    }
   ],
   "source": [
    "#查询与实际匹配情况\n",
    "#询词预测的类目\n",
    "def get_match_num(x):\n",
    "    num = 0.0\n",
    "    lists = x.split(\";\")\n",
    "    for category in lists:\n",
    "        category = category.split(\":\")\n",
    "        if len(category) >=2 and category[1].split(\",\")[0] != \"-1\":\n",
    "            num+=1.0\n",
    "    return num\n",
    "\n",
    "#根据查询词预测的属性匹配数\n",
    "def get_match_property_num(x):\n",
    "    predicts = set()\n",
    "    lists = x[\"predict_category_property\"].split(\";\")\n",
    "    for category in lists:\n",
    "        category = category.split(\":\")\n",
    "        if len(category) >=2:\n",
    "            proerties = category[1].split(\",\")\n",
    "            if proerties[0] != \"-1\":\n",
    "                for proerty in proerties:\n",
    "                    predicts.add(proerty)\n",
    "    true = set()\n",
    "    lists = x[\"item_property_list\"].split(\";\")\n",
    "    for proerty in lists:\n",
    "        true.add(proerty)\n",
    "    return len(true & predicts)*1.0\n",
    "\n",
    "# 查询词汇预测类目与该商品匹配的个数\n",
    "def get_match_item_category(x):\n",
    "    query_category_set = set()\n",
    "    lists = x[\"predict_category_property\"].split(\";\")\n",
    "    for category in lists:\n",
    "        category = category.split(\":\")[0]\n",
    "        if category != \"-1\":\n",
    "            query_category_set.add(category)\n",
    "    item_category_set = set(x[\"item_category_list\"].split(\";\"))\n",
    "    return len(item_category_set & query_category_set)*1.0\n",
    "\n",
    "\n",
    "# 查询词汇\n",
    "data[\"property_num\"] = data[\"item_property_list\"].apply(lambda x : len(x.split(\";\"))*1.0)\n",
    "print(\"计算：property_num完毕\")\n",
    "data[\"category_num\"] = data[\"item_category_list\"].apply(lambda x : len(x.split(\";\"))*1.0)\n",
    "print(\"计算：category_num完毕\")\n",
    "#查询词汇中类目总数\n",
    "data[\"predict_category_num\"] = data[\"predict_category_property\"].apply(lambda x: len(x.split(\";\"))*1.0)\n",
    "print(\"计算：predict_category_num完毕\")\n",
    "\n",
    "#查询词汇中，预测匹配类目的总数,即不是-1的总类目数\n",
    "data[\"match_category_num\"] = data[\"predict_category_property\"].apply(lambda x: get_match_num(x))\n",
    "# 预测匹配类目/查询词汇类目总数\n",
    "data[\"match_category_ratio\"] = data.apply(lambda x: x[\"match_category_num\"]/x[\"predict_category_num\"], axis=1)\n",
    "# 一共匹配属性的个数\n",
    "data[\"match_proetry_num\"] = data.apply(lambda x: get_match_property_num(x), axis=1)\n",
    "# 匹配属性个数/该商品属性总数\n",
    "data[\"match_proetry_num_ratio\"] = data.apply(lambda x: x[\"match_proetry_num\"]/x[\"property_num\"], axis=1)\n",
    "# 查询词汇与该商品类目匹配的个数\n",
    "data[\"match_item_category_num\"] = data.apply(lambda x: get_match_item_category(x), axis=1)\n",
    "# 查询词汇与该商品类目匹配的个数/该商品类目总数\n",
    "data[\"predict_category_item_category_ratio\"] = data.apply(lambda x : x[\"match_item_category_num\"]/x[\"category_num\"], axis=1)\n"
   ]
  },
  {
   "cell_type": "code",
   "execution_count": 10,
   "metadata": {
    "collapsed": true
   },
   "outputs": [],
   "source": [
    "data.pop(\"item_category_list\")\n",
    "data.pop(\"item_property_list\")\n",
    "data.pop(\"predict_category_property\")\n",
    "context_timestamp = data.pop(\"context_timestamp\")"
   ]
  },
  {
   "cell_type": "code",
   "execution_count": 11,
   "metadata": {
    "collapsed": true
   },
   "outputs": [],
   "source": [
    "data.to_pickle('../../data/processed/context_feature.pkl')"
   ]
  },
  {
   "cell_type": "code",
   "execution_count": 12,
   "metadata": {},
   "outputs": [
    {
     "data": {
      "text/plain": [
       "Timestamp('2018-09-07 00:00:00')"
      ]
     },
     "execution_count": 12,
     "metadata": {},
     "output_type": "execute_result"
    }
   ],
   "source": [
    "context_timestamp.min()"
   ]
  },
  {
   "cell_type": "code",
   "execution_count": 13,
   "metadata": {},
   "outputs": [
    {
     "data": {
      "text/plain": [
       "(1597063, 13)"
      ]
     },
     "execution_count": 13,
     "metadata": {},
     "output_type": "execute_result"
    }
   ],
   "source": [
    "data.shape"
   ]
  },
  {
   "cell_type": "code",
   "execution_count": null,
   "metadata": {
    "collapsed": true
   },
   "outputs": [],
   "source": []
  }
 ],
 "metadata": {
  "kernelspec": {
   "display_name": "Python 3",
   "language": "python",
   "name": "python3"
  },
  "language_info": {
   "codemirror_mode": {
    "name": "ipython",
    "version": 3
   },
   "file_extension": ".py",
   "mimetype": "text/x-python",
   "name": "python",
   "nbconvert_exporter": "python",
   "pygments_lexer": "ipython3",
   "version": "3.6.4"
  }
 },
 "nbformat": 4,
 "nbformat_minor": 2
}
