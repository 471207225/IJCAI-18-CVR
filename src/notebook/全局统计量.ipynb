{
 "cells": [
  {
   "cell_type": "code",
   "execution_count": 1,
   "metadata": {
    "collapsed": true
   },
   "outputs": [],
   "source": [
    "import pandas as pd\n",
    "import gc\n",
    "from sklearn import preprocessing\n",
    "import time\n",
    "import math\n",
    "import pickle\n",
    "import numpy as np"
   ]
  },
  {
   "cell_type": "code",
   "execution_count": 2,
   "metadata": {
    "collapsed": true
   },
   "outputs": [],
   "source": [
    "total =  pickle.load(open('../../data/raw/total_high_level.pkl','rb+'))\n",
    "total = total.reset_index(drop=True)"
   ]
  },
  {
   "cell_type": "code",
   "execution_count": 3,
   "metadata": {
    "collapsed": true
   },
   "outputs": [],
   "source": [
    "#def timestamp_datetime(value):\n",
    "#    format = '%Y-%m-%d %H:%M:%S'\n",
    "#    value = time.localtime(value)\n",
    "#    dt = time.strftime(format, value)\n",
    "#    return dt\n",
    "#total['context_timestamp'] = total['context_timestamp'].apply(timestamp_datetime)\n",
    "#total['context_timestamp'] = pd.to_datetime(total['context_timestamp'])\n",
    "#total[\"day\"] = total[\"context_timestamp\"].dt.day\n",
    "#total[\"hour\"] = total[\"context_timestamp\"].dt.hour"
   ]
  },
  {
   "cell_type": "code",
   "execution_count": 21,
   "metadata": {
    "collapsed": true
   },
   "outputs": [],
   "source": [
    "global_feature = total.loc[(total[\"context_timestamp\"] >= \"20180907\"),\n",
    "                           [\"item_brand_id\",\"item_id\",\"user_id\",\"shop_id\",\"is_trade\",\"user_id_shop_id\",\"user_id_item_id\"]]\n",
    "data = total.loc[:,[\"day\",\"item_brand_id\",\"user_id\",\"is_trade\",\"shop_id\",\"item_id\",\"context_timestamp\",\"user_id_shop_id\",\"user_id_item_id\"]]"
   ]
  },
  {
   "cell_type": "code",
   "execution_count": 22,
   "metadata": {
    "collapsed": true
   },
   "outputs": [],
   "source": [
    "def count_features(data,feature_name):\n",
    "    df = data[feature_name].value_counts()\n",
    "    result = pd.DataFrame({feature_name:df.index, 'count_global_{}'.format(feature_name):df.values})\n",
    "    result = result.fillna(-1)\n",
    "    return result"
   ]
  },
  {
   "cell_type": "code",
   "execution_count": 23,
   "metadata": {
    "collapsed": true
   },
   "outputs": [],
   "source": [
    "def user_visited_shop_num(data):\n",
    "    df = data.groupby([\"user_id\"])[\"shop_id\"].nunique()\n",
    "    result = pd.DataFrame({\"user_id\":df.index, 'count_user_shop_num':df.values})\n",
    "    result = result.fillna(-1)\n",
    "    return result"
   ]
  },
  {
   "cell_type": "code",
   "execution_count": 24,
   "metadata": {
    "collapsed": true
   },
   "outputs": [],
   "source": [
    "def shop_has_user_num(data):\n",
    "    df = data.groupby([\"shop_id\"])[\"user_id\"].nunique()\n",
    "    result = pd.DataFrame({\"shop_id\":df.index, 'count_shop_user_num':df.values})\n",
    "    result = result.fillna(-1)\n",
    "    return result"
   ]
  },
  {
   "cell_type": "code",
   "execution_count": null,
   "metadata": {
    "collapsed": true
   },
   "outputs": [],
   "source": [
    "user_visited_shop_num_df = user_visited_shop_num(data)\n",
    "global_feature = pd.merge(global_feature, user_visited_shop_num_df, on=\"user_id\",how=\"left\")"
   ]
  },
  {
   "cell_type": "code",
   "execution_count": null,
   "metadata": {
    "collapsed": true
   },
   "outputs": [],
   "source": [
    "shop_has_user_num_df = shop_has_user_num(data)\n",
    "global_feature = pd.merge(global_feature, shop_has_user_num_df, on=\"shop_id\",how=\"left\")"
   ]
  },
  {
   "cell_type": "code",
   "execution_count": null,
   "metadata": {
    "collapsed": true
   },
   "outputs": [],
   "source": [
    "def get_average_gap(data,feature_name):\n",
    "    global_feature = pd.DataFrame()\n",
    "    for day in [7]:\n",
    "        df_average_vististed_gap = compute_average_gap(data.loc[data[\"day\"]==day,[feature_name,\"context_timestamp\"]],feature_name)\n",
    "        global_feature = pd.concat([df_average_vististed_gap,global_feature])\n",
    "    df = global_feature.groupby([feature_name])['average_{}_visited_time_gap'.format(feature_name)].mean()\n",
    "    result = pd.DataFrame({feature_name:df.index, 'average_{}_visited_time_gap'.format(feature_name):df.values})\n",
    "    result = result.fillna(-1)\n",
    "    return result"
   ]
  },
  {
   "cell_type": "code",
   "execution_count": null,
   "metadata": {
    "collapsed": true
   },
   "outputs": [],
   "source": [
    "for feature_name in [\"user_id\",\"shop_id\",\"item_id\",\"user_id_item_id\",\"user_id_shop_id\"]:\n",
    "    print(feature_name)\n",
    "    #df_average_vististed_gap = compute_average_gap(data,feature_name)\n",
    "    df_count_features = count_features(data, feature_name)\n",
    "    #global_feature = pd.merge(global_feature, df_average_vististed_gap, on=feature_name,how=\"left\")\n",
    "    global_feature = pd.merge(global_feature, df_count_features, on=feature_name,how=\"left\")"
   ]
  },
  {
   "cell_type": "code",
   "execution_count": null,
   "metadata": {
    "collapsed": true
   },
   "outputs": [],
   "source": [
    "global_feature.pop(\"item_brand_id\")\n",
    "global_feature.pop(\"item_id\")\n",
    "global_feature.pop(\"user_id\")\n",
    "global_feature.pop(\"shop_id\")\n",
    "global_feature.pop(\"user_id_item_id\")\n",
    "global_feature.pop(\"user_id_shop_id\")\n",
    "global_feature = global_feature.reset_index(drop=True)"
   ]
  },
  {
   "cell_type": "code",
   "execution_count": null,
   "metadata": {
    "collapsed": true
   },
   "outputs": [],
   "source": [
    "global_feature.to_pickle('../../data/processed/global_feature.pkl')"
   ]
  },
  {
   "cell_type": "code",
   "execution_count": null,
   "metadata": {
    "collapsed": true
   },
   "outputs": [],
   "source": [
    "global_feature.shape"
   ]
  },
  {
   "cell_type": "code",
   "execution_count": null,
   "metadata": {
    "collapsed": true
   },
   "outputs": [],
   "source": []
  }
 ],
 "metadata": {
  "kernelspec": {
   "display_name": "Python 3",
   "language": "python",
   "name": "python3"
  },
  "language_info": {
   "codemirror_mode": {
    "name": "ipython",
    "version": 3
   },
   "file_extension": ".py",
   "mimetype": "text/x-python",
   "name": "python",
   "nbconvert_exporter": "python",
   "pygments_lexer": "ipython3",
   "version": "3.6.3"
  }
 },
 "nbformat": 4,
 "nbformat_minor": 2
}
