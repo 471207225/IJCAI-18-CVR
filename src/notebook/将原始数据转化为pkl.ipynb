{
 "cells": [
  {
   "cell_type": "code",
   "execution_count": 1,
   "metadata": {
    "collapsed": true
   },
   "outputs": [],
   "source": [
    "import pandas as pd\n",
    "import gc\n",
    "from sklearn import preprocessing\n",
    "import time\n",
    "import numpy as np\n",
    "import pickle"
   ]
  },
  {
   "cell_type": "code",
   "execution_count": 2,
   "metadata": {
    "collapsed": true
   },
   "outputs": [],
   "source": [
    "total =  pickle.load(open('../../data/raw/round2_total_a.pkl','rb+'))\n",
    "total = total.reset_index(drop=True)"
   ]
  },
  {
   "cell_type": "code",
   "execution_count": 3,
   "metadata": {
    "collapsed": true
   },
   "outputs": [],
   "source": [
    "def timestamp_datetime(value):\n",
    "    format = '%Y-%m-%d %H:%M:%S'\n",
    "    value = time.localtime(value)\n",
    "    dt = time.strftime(format, value)\n",
    "    return dt\n",
    "total['context_timestamp'] = total['context_timestamp'].apply(timestamp_datetime)\n",
    "total['context_timestamp'] = pd.to_datetime(total['context_timestamp'])\n",
    "total[\"day\"] = total[\"context_timestamp\"].dt.day\n",
    "total[\"hour\"] = total[\"context_timestamp\"].dt.hour"
   ]
  },
  {
   "cell_type": "code",
   "execution_count": 16,
   "metadata": {},
   "outputs": [
    {
     "data": {
      "text/plain": [
       "0.010323429633832744"
      ]
     },
     "execution_count": 16,
     "metadata": {},
     "output_type": "execute_result"
    }
   ],
   "source": [
    "total.loc[(total[\"day\"]==4) & (total[\"hour\"]>=12)][\"is_trade\"].mean()"
   ]
  },
  {
   "cell_type": "code",
   "execution_count": 17,
   "metadata": {},
   "outputs": [
    {
     "name": "stdout",
     "output_type": "stream",
     "text": [
      "完成对user_id的编码\n",
      "完成对shop_id的编码\n",
      "完成对item_id的编码\n"
     ]
    }
   ],
   "source": [
    "lbl = preprocessing.LabelEncoder()\n",
    "\n",
    "total[\"user_id_bk\"] = lbl.fit_transform(total['user_id']) \n",
    "print(\"完成对user_id的编码\")\n",
    "total[\"shop_id_bk\"] = lbl.fit_transform(total['shop_id']) \n",
    "print(\"完成对shop_id的编码\")\n",
    "total[\"item_id_bk\"] = lbl.fit_transform(total['item_id'])\n",
    "print(\"完成对item_id的编码\")\n"
   ]
  },
  {
   "cell_type": "code",
   "execution_count": 18,
   "metadata": {},
   "outputs": [
    {
     "name": "stdout",
     "output_type": "stream",
     "text": [
      "完成user_id_shop_id编码\n"
     ]
    }
   ],
   "source": [
    "total[\"user_id_shop_id\"] = total[[\"user_id_bk\",\"shop_id_bk\"]].apply(lambda x : x[0] + x[1], axis=1)\n",
    "total[\"user_id_shop_id\"] = lbl.fit_transform(total['user_id_shop_id']) \n",
    "print(\"完成user_id_shop_id编码\")"
   ]
  },
  {
   "cell_type": "code",
   "execution_count": 19,
   "metadata": {},
   "outputs": [
    {
     "name": "stdout",
     "output_type": "stream",
     "text": [
      "完成user_id_item_id编码\n"
     ]
    }
   ],
   "source": [
    "total[\"user_id_item_id\"] = total[[\"user_id_bk\",\"item_id_bk\"]].apply(lambda x : x[0] + x[1], axis=1)\n",
    "total[\"user_id_item_id\"] = lbl.fit_transform(total['user_id_item_id']) \n",
    "print(\"完成user_id_item_id编码\")"
   ]
  },
  {
   "cell_type": "code",
   "execution_count": 20,
   "metadata": {
    "collapsed": true
   },
   "outputs": [],
   "source": [
    "tmp = total.pop(\"item_id_bk\")\n",
    "tmp = total.pop(\"shop_id_bk\")\n",
    "tmp = total.pop(\"user_id_bk\")"
   ]
  },
  {
   "cell_type": "code",
   "execution_count": 22,
   "metadata": {
    "collapsed": true
   },
   "outputs": [],
   "source": [
    "total.to_pickle('../../data/raw/total_high_level.pkl')"
   ]
  },
  {
   "cell_type": "code",
   "execution_count": 23,
   "metadata": {},
   "outputs": [
    {
     "data": {
      "text/html": [
       "<div>\n",
       "<style scoped>\n",
       "    .dataframe tbody tr th:only-of-type {\n",
       "        vertical-align: middle;\n",
       "    }\n",
       "\n",
       "    .dataframe tbody tr th {\n",
       "        vertical-align: top;\n",
       "    }\n",
       "\n",
       "    .dataframe thead th {\n",
       "        text-align: right;\n",
       "    }\n",
       "</style>\n",
       "<table border=\"1\" class=\"dataframe\">\n",
       "  <thead>\n",
       "    <tr style=\"text-align: right;\">\n",
       "      <th></th>\n",
       "      <th>context_id</th>\n",
       "      <th>context_page_id</th>\n",
       "      <th>context_timestamp</th>\n",
       "      <th>instance_id</th>\n",
       "      <th>is_trade</th>\n",
       "      <th>item_brand_id</th>\n",
       "      <th>item_category_list</th>\n",
       "      <th>item_city_id</th>\n",
       "      <th>item_collected_level</th>\n",
       "      <th>item_id</th>\n",
       "      <th>...</th>\n",
       "      <th>shop_star_level</th>\n",
       "      <th>user_age_level</th>\n",
       "      <th>user_gender_id</th>\n",
       "      <th>user_id</th>\n",
       "      <th>user_occupation_id</th>\n",
       "      <th>user_star_level</th>\n",
       "      <th>day</th>\n",
       "      <th>hour</th>\n",
       "      <th>user_id_shop_id</th>\n",
       "      <th>user_id_item_id</th>\n",
       "    </tr>\n",
       "  </thead>\n",
       "  <tbody>\n",
       "    <tr>\n",
       "      <th>0</th>\n",
       "      <td>1760030022520373336</td>\n",
       "      <td>4007</td>\n",
       "      <td>2018-09-06 21:58:20</td>\n",
       "      <td>7118167540371</td>\n",
       "      <td>0.0</td>\n",
       "      <td>144417789855323213</td>\n",
       "      <td>836752724084922533;8769426218101861255</td>\n",
       "      <td>4228028106931716766</td>\n",
       "      <td>12</td>\n",
       "      <td>7595487976415452415</td>\n",
       "      <td>...</td>\n",
       "      <td>5009</td>\n",
       "      <td>1002</td>\n",
       "      <td>0</td>\n",
       "      <td>5724977323419098997</td>\n",
       "      <td>2002</td>\n",
       "      <td>3006</td>\n",
       "      <td>6</td>\n",
       "      <td>21</td>\n",
       "      <td>1869874</td>\n",
       "      <td>1921925</td>\n",
       "    </tr>\n",
       "    <tr>\n",
       "      <th>1</th>\n",
       "      <td>3064474740486843601</td>\n",
       "      <td>4001</td>\n",
       "      <td>2018-09-06 17:16:10</td>\n",
       "      <td>43508800019098</td>\n",
       "      <td>0.0</td>\n",
       "      <td>1975299596879116255</td>\n",
       "      <td>836752724084922533;6670526099037031245</td>\n",
       "      <td>6219110439660858399</td>\n",
       "      <td>15</td>\n",
       "      <td>5340996313837249587</td>\n",
       "      <td>...</td>\n",
       "      <td>5015</td>\n",
       "      <td>1003</td>\n",
       "      <td>0</td>\n",
       "      <td>4870198026823248606</td>\n",
       "      <td>2005</td>\n",
       "      <td>3001</td>\n",
       "      <td>6</td>\n",
       "      <td>17</td>\n",
       "      <td>1584585</td>\n",
       "      <td>1621921</td>\n",
       "    </tr>\n",
       "    <tr>\n",
       "      <th>2</th>\n",
       "      <td>6739974686483095644</td>\n",
       "      <td>4004</td>\n",
       "      <td>2018-09-06 20:51:34</td>\n",
       "      <td>78067858668749</td>\n",
       "      <td>0.0</td>\n",
       "      <td>9167910794067700637</td>\n",
       "      <td>836752724084922533;6693726201323251689</td>\n",
       "      <td>196257267849351217</td>\n",
       "      <td>13</td>\n",
       "      <td>8363638779510498577</td>\n",
       "      <td>...</td>\n",
       "      <td>5015</td>\n",
       "      <td>1003</td>\n",
       "      <td>0</td>\n",
       "      <td>3068854050938259810</td>\n",
       "      <td>2002</td>\n",
       "      <td>3004</td>\n",
       "      <td>6</td>\n",
       "      <td>20</td>\n",
       "      <td>1017902</td>\n",
       "      <td>1058138</td>\n",
       "    </tr>\n",
       "    <tr>\n",
       "      <th>3</th>\n",
       "      <td>7705718657630944724</td>\n",
       "      <td>4001</td>\n",
       "      <td>2018-09-06 15:14:26</td>\n",
       "      <td>137525720365644</td>\n",
       "      <td>0.0</td>\n",
       "      <td>9542632357298456</td>\n",
       "      <td>836752724084922533;6670526099037031245</td>\n",
       "      <td>6219110439660858399</td>\n",
       "      <td>10</td>\n",
       "      <td>7121266959776152715</td>\n",
       "      <td>...</td>\n",
       "      <td>5014</td>\n",
       "      <td>1003</td>\n",
       "      <td>0</td>\n",
       "      <td>7832745435456978716</td>\n",
       "      <td>2005</td>\n",
       "      <td>3000</td>\n",
       "      <td>6</td>\n",
       "      <td>15</td>\n",
       "      <td>2570371</td>\n",
       "      <td>2608450</td>\n",
       "    </tr>\n",
       "    <tr>\n",
       "      <th>4</th>\n",
       "      <td>2577301567114667733</td>\n",
       "      <td>4001</td>\n",
       "      <td>2018-09-06 16:53:14</td>\n",
       "      <td>151193932520734</td>\n",
       "      <td>0.0</td>\n",
       "      <td>7923860398679336202</td>\n",
       "      <td>836752724084922533;3613783563199627217;6370392...</td>\n",
       "      <td>6219110439660858399</td>\n",
       "      <td>14</td>\n",
       "      <td>5738516817201102842</td>\n",
       "      <td>...</td>\n",
       "      <td>5013</td>\n",
       "      <td>1005</td>\n",
       "      <td>0</td>\n",
       "      <td>8477796802398805696</td>\n",
       "      <td>2005</td>\n",
       "      <td>3004</td>\n",
       "      <td>6</td>\n",
       "      <td>16</td>\n",
       "      <td>2780956</td>\n",
       "      <td>2807475</td>\n",
       "    </tr>\n",
       "  </tbody>\n",
       "</table>\n",
       "<p>5 rows × 31 columns</p>\n",
       "</div>"
      ],
      "text/plain": [
       "            context_id  context_page_id   context_timestamp      instance_id  \\\n",
       "0  1760030022520373336             4007 2018-09-06 21:58:20    7118167540371   \n",
       "1  3064474740486843601             4001 2018-09-06 17:16:10   43508800019098   \n",
       "2  6739974686483095644             4004 2018-09-06 20:51:34   78067858668749   \n",
       "3  7705718657630944724             4001 2018-09-06 15:14:26  137525720365644   \n",
       "4  2577301567114667733             4001 2018-09-06 16:53:14  151193932520734   \n",
       "\n",
       "   is_trade        item_brand_id  \\\n",
       "0       0.0   144417789855323213   \n",
       "1       0.0  1975299596879116255   \n",
       "2       0.0  9167910794067700637   \n",
       "3       0.0     9542632357298456   \n",
       "4       0.0  7923860398679336202   \n",
       "\n",
       "                                  item_category_list         item_city_id  \\\n",
       "0             836752724084922533;8769426218101861255  4228028106931716766   \n",
       "1             836752724084922533;6670526099037031245  6219110439660858399   \n",
       "2             836752724084922533;6693726201323251689   196257267849351217   \n",
       "3             836752724084922533;6670526099037031245  6219110439660858399   \n",
       "4  836752724084922533;3613783563199627217;6370392...  6219110439660858399   \n",
       "\n",
       "   item_collected_level              item_id       ...         \\\n",
       "0                    12  7595487976415452415       ...          \n",
       "1                    15  5340996313837249587       ...          \n",
       "2                    13  8363638779510498577       ...          \n",
       "3                    10  7121266959776152715       ...          \n",
       "4                    14  5738516817201102842       ...          \n",
       "\n",
       "   shop_star_level user_age_level  user_gender_id              user_id  \\\n",
       "0             5009           1002               0  5724977323419098997   \n",
       "1             5015           1003               0  4870198026823248606   \n",
       "2             5015           1003               0  3068854050938259810   \n",
       "3             5014           1003               0  7832745435456978716   \n",
       "4             5013           1005               0  8477796802398805696   \n",
       "\n",
       "  user_occupation_id  user_star_level  day  hour  user_id_shop_id  \\\n",
       "0               2002             3006    6    21          1869874   \n",
       "1               2005             3001    6    17          1584585   \n",
       "2               2002             3004    6    20          1017902   \n",
       "3               2005             3000    6    15          2570371   \n",
       "4               2005             3004    6    16          2780956   \n",
       "\n",
       "   user_id_item_id  \n",
       "0          1921925  \n",
       "1          1621921  \n",
       "2          1058138  \n",
       "3          2608450  \n",
       "4          2807475  \n",
       "\n",
       "[5 rows x 31 columns]"
      ]
     },
     "execution_count": 23,
     "metadata": {},
     "output_type": "execute_result"
    }
   ],
   "source": [
    "total.head()"
   ]
  },
  {
   "cell_type": "code",
   "execution_count": null,
   "metadata": {
    "collapsed": true
   },
   "outputs": [],
   "source": []
  }
 ],
 "metadata": {
  "kernelspec": {
   "display_name": "Python 3",
   "language": "python",
   "name": "python3"
  },
  "language_info": {
   "codemirror_mode": {
    "name": "ipython",
    "version": 3
   },
   "file_extension": ".py",
   "mimetype": "text/x-python",
   "name": "python",
   "nbconvert_exporter": "python",
   "pygments_lexer": "ipython3",
   "version": "3.6.4"
  }
 },
 "nbformat": 4,
 "nbformat_minor": 2
}
