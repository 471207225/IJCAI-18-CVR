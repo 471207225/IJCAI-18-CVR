{
 "cells": [
  {
   "cell_type": "code",
   "execution_count": 3,
   "metadata": {
    "collapsed": true
   },
   "outputs": [],
   "source": [
    "import pandas as pd\n",
    "import gc\n",
    "from sklearn import preprocessing\n",
    "import time\n",
    "import numpy as np\n",
    "import pickle"
   ]
  },
  {
   "cell_type": "code",
   "execution_count": 4,
   "metadata": {
    "collapsed": true
   },
   "outputs": [],
   "source": [
    "total =  pickle.load(open('../../data/raw/total_high_level.pkl','rb+'))\n",
    "total = total.reset_index(drop=True)"
   ]
  },
  {
   "cell_type": "code",
   "execution_count": 5,
   "metadata": {
    "collapsed": true
   },
   "outputs": [],
   "source": [
    "target = total.loc[(total[\"day\"]==7),[\"is_trade\",\"day\",\"hour\",\"item_price_level\",\"item_id\",\"user_id\",\"context_timestamp\",\"item_sales_level\",\"item_collected_level\",\"item_pv_level\",\n",
    "                                     \"shop_id\",\"shop_review_num_level\",\"shop_review_positive_rate\",\"shop_star_level\",\"shop_score_service\",\"shop_score_delivery\",\"shop_score_description\"]]\n",
    "history = total.loc[(total[\"day\"]!=7), [\"is_trade\",\"day\",\"hour\",\"item_price_level\",\"item_id\",\"user_id\",\"context_timestamp\",\"item_sales_level\",\"item_collected_level\",\"item_pv_level\",\n",
    "                                       \"shop_id\",\"shop_review_num_level\",\"shop_review_positive_rate\",\"shop_star_level\",\"shop_score_service\",\"shop_score_delivery\",\"shop_score_description\"]]"
   ]
  },
  {
   "cell_type": "code",
   "execution_count": 6,
   "metadata": {
    "collapsed": true
   },
   "outputs": [],
   "source": [
    "#销售价格差异\n",
    "tmp = pd.DataFrame(history.groupby([\"item_id\"])[\"item_price_level\"].mean()).reset_index()\n",
    "tmp.columns = [\"item_id\",\"item_price_level_mean\"]\n",
    "target = target.reset_index().merge(tmp,on=[\"item_id\"], how=\"left\").set_index(\"index\")\n",
    "target[\"item_price_level_diff\"] = target[\"item_price_level_mean\"] - target[\"item_price_level\"]"
   ]
  },
  {
   "cell_type": "code",
   "execution_count": 7,
   "metadata": {
    "collapsed": true
   },
   "outputs": [],
   "source": [
    "#销售量差异\n",
    "tmp = pd.DataFrame(history.groupby([\"item_id\"])[\"item_sales_level\"].mean()).reset_index()\n",
    "tmp.columns = [\"item_id\",\"item_sales_level_mean\"]\n",
    "target = target.reset_index().merge(tmp,on=[\"item_id\"], how=\"left\").set_index(\"index\")\n",
    "target[\"item_sales_level_diff\"] = target[\"item_sales_level_mean\"] - target[\"item_sales_level\"]"
   ]
  },
  {
   "cell_type": "code",
   "execution_count": 8,
   "metadata": {
    "collapsed": true
   },
   "outputs": [],
   "source": [
    "#被收藏差异\n",
    "tmp = pd.DataFrame(history.groupby([\"item_id\"])[\"item_collected_level\"].mean()).reset_index()\n",
    "tmp.columns = [\"item_id\",\"item_collected_level_mean\"]\n",
    "target = target.reset_index().merge(tmp,on=[\"item_id\"], how=\"left\").set_index(\"index\")\n",
    "target[\"item_collected_level_diff\"] = target[\"item_collected_level_mean\"] - target[\"item_collected_level\"]"
   ]
  },
  {
   "cell_type": "code",
   "execution_count": 9,
   "metadata": {
    "collapsed": true
   },
   "outputs": [],
   "source": [
    "#被展示的差异\n",
    "tmp = pd.DataFrame(history.groupby([\"item_id\"])[\"item_pv_level\"].mean()).reset_index()\n",
    "tmp.columns = [\"item_id\",\"item_pv_level_mean\"]\n",
    "target = target.reset_index().merge(tmp,on=[\"item_id\"], how=\"left\").set_index(\"index\")\n",
    "target[\"item_pv_level_diff\"] = target[\"item_pv_level_mean\"] - target[\"item_pv_level\"]"
   ]
  },
  {
   "cell_type": "code",
   "execution_count": 10,
   "metadata": {
    "collapsed": true
   },
   "outputs": [],
   "source": [
    "#\n",
    "tmp = pd.DataFrame(history.groupby([\"shop_id\"])[\"shop_review_num_level\"].mean()).reset_index()\n",
    "tmp.columns = [\"shop_id\",\"shop_review_num_level_mean\"]\n",
    "target = target.reset_index().merge(tmp,on=[\"shop_id\"], how=\"left\").set_index(\"index\")\n",
    "target[\"shop_review_num_level_diff\"] = target[\"shop_review_num_level_mean\"] - target[\"shop_review_num_level\"]"
   ]
  },
  {
   "cell_type": "code",
   "execution_count": 11,
   "metadata": {
    "collapsed": true
   },
   "outputs": [],
   "source": [
    "tmp = pd.DataFrame(history.groupby([\"shop_id\"])[\"shop_review_positive_rate\"].mean()).reset_index()\n",
    "tmp.columns = [\"shop_id\",\"shop_review_positive_rate_mean\"]\n",
    "target = target.reset_index().merge(tmp,on=[\"shop_id\"], how=\"left\").set_index(\"index\")\n",
    "target[\"shop_review_positive_rate_diff\"] = target[\"shop_review_positive_rate_mean\"] - target[\"shop_review_positive_rate\"]"
   ]
  },
  {
   "cell_type": "code",
   "execution_count": 12,
   "metadata": {
    "collapsed": true
   },
   "outputs": [],
   "source": [
    "tmp = pd.DataFrame(history.groupby([\"shop_id\"])[\"shop_star_level\"].mean()).reset_index()\n",
    "tmp.columns = [\"shop_id\",\"shop_star_level_mean\"]\n",
    "target = target.reset_index().merge(tmp,on=[\"shop_id\"], how=\"left\").set_index(\"index\")\n",
    "target[\"shop_star_level_diff\"] = target[\"shop_star_level_mean\"] - target[\"shop_star_level\"]"
   ]
  },
  {
   "cell_type": "code",
   "execution_count": 13,
   "metadata": {
    "collapsed": true
   },
   "outputs": [],
   "source": [
    "tmp = pd.DataFrame(history.groupby([\"shop_id\"])[\"shop_score_service\"].mean()).reset_index()\n",
    "tmp.columns = [\"shop_id\",\"shop_score_service_mean\"]\n",
    "target = target.reset_index().merge(tmp,on=[\"shop_id\"], how=\"left\").set_index(\"index\")\n",
    "target[\"shop_score_service_diff\"] = target[\"shop_score_service_mean\"] - target[\"shop_score_service\"]"
   ]
  },
  {
   "cell_type": "code",
   "execution_count": 14,
   "metadata": {
    "collapsed": true
   },
   "outputs": [],
   "source": [
    "tmp = pd.DataFrame(history.groupby([\"shop_id\"])[\"shop_score_delivery\"].mean()).reset_index()\n",
    "tmp.columns = [\"shop_id\",\"shop_score_delivery_mean\"]\n",
    "target = target.reset_index().merge(tmp,on=[\"shop_id\"], how=\"left\").set_index(\"index\")\n",
    "target[\"shop_score_delivery_diff\"] = target[\"shop_score_delivery_mean\"] - target[\"shop_score_delivery\"]"
   ]
  },
  {
   "cell_type": "code",
   "execution_count": 15,
   "metadata": {
    "collapsed": true
   },
   "outputs": [],
   "source": [
    "tmp = pd.DataFrame(history.groupby([\"shop_id\"])[\"shop_score_description\"].mean()).reset_index()\n",
    "tmp.columns = [\"shop_id\",\"shop_score_description_mean\"]\n",
    "target = target.reset_index().merge(tmp,on=[\"shop_id\"], how=\"left\").set_index(\"index\")\n",
    "target[\"shop_score_description_diff\"] = target[\"shop_score_description_mean\"] - target[\"shop_score_description\"]"
   ]
  },
  {
   "cell_type": "code",
   "execution_count": 16,
   "metadata": {
    "collapsed": true
   },
   "outputs": [],
   "source": [
    "tmp = target.pop(\"shop_id\")\n",
    "tmp = target.pop(\"day\")\n",
    "tmp = target.pop(\"hour\")\n",
    "tmp = target.pop(\"item_price_level\")\n",
    "tmp = target.pop(\"item_id\")\n",
    "tmp = target.pop(\"user_id\")\n",
    "tmp = target.pop(\"item_sales_level\")\n",
    "tmp = target.pop(\"item_collected_level\")\n",
    "tmp = target.pop(\"item_pv_level\")\n",
    "\n",
    "tmp = target.pop(\"item_price_level_mean\")\n",
    "tmp = target.pop(\"item_sales_level_mean\")\n",
    "tmp = target.pop(\"item_collected_level_mean\")\n",
    "tmp = target.pop(\"item_pv_level_mean\")\n",
    "\n",
    "tpm = target.pop(\"context_timestamp\")\n",
    "\n",
    "tpm = target.pop(\"shop_score_description_mean\")\n",
    "tpm = target.pop(\"shop_score_delivery_mean\")\n",
    "tpm = target.pop(\"shop_score_service_mean\")\n",
    "tpm = target.pop(\"shop_star_level_mean\")\n",
    "tpm = target.pop(\"shop_review_positive_rate_mean\")\n",
    "tpm = target.pop(\"shop_review_num_level_mean\")\n",
    "\n",
    "\n",
    "tpm = target.pop(\"shop_review_num_level\")\n",
    "tpm = target.pop(\"shop_review_positive_rate\")\n",
    "tpm = target.pop(\"shop_score_service\")\n",
    "tpm = target.pop(\"shop_star_level\")\n",
    "tpm = target.pop(\"shop_score_delivery\")\n",
    "tpm = target.pop(\"shop_score_description\")"
   ]
  },
  {
   "cell_type": "code",
   "execution_count": 17,
   "metadata": {
    "collapsed": true
   },
   "outputs": [],
   "source": [
    "target.to_pickle('../../data/processed/diff_feature.pkl')"
   ]
  },
  {
   "cell_type": "code",
   "execution_count": 18,
   "metadata": {},
   "outputs": [
    {
     "data": {
      "text/plain": [
       "(2806831, 12)"
      ]
     },
     "execution_count": 18,
     "metadata": {},
     "output_type": "execute_result"
    }
   ],
   "source": [
    "target.shape"
   ]
  },
  {
   "cell_type": "code",
   "execution_count": null,
   "metadata": {
    "collapsed": true
   },
   "outputs": [],
   "source": []
  }
 ],
 "metadata": {
  "kernelspec": {
   "display_name": "Python 3",
   "language": "python",
   "name": "python3"
  },
  "language_info": {
   "codemirror_mode": {
    "name": "ipython",
    "version": 3
   },
   "file_extension": ".py",
   "mimetype": "text/x-python",
   "name": "python",
   "nbconvert_exporter": "python",
   "pygments_lexer": "ipython3",
   "version": "3.6.4"
  }
 },
 "nbformat": 4,
 "nbformat_minor": 2
}
