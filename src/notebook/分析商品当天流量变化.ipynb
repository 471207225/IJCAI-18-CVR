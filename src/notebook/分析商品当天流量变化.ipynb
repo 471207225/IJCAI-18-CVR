{
 "cells": [
  {
   "cell_type": "code",
   "execution_count": 42,
   "metadata": {
    "collapsed": true
   },
   "outputs": [],
   "source": [
    "import pandas as pd\n",
    "import gc\n",
    "from sklearn import preprocessing\n",
    "import time\n",
    "import math\n",
    "import pickle\n",
    "import numpy as np"
   ]
  },
  {
   "cell_type": "code",
   "execution_count": 43,
   "metadata": {
    "collapsed": true
   },
   "outputs": [],
   "source": [
    "total =  pickle.load(open('../../data/raw/total_high_level.pkl','rb+'))\n",
    "total = total.reset_index(drop=True)"
   ]
  },
  {
   "cell_type": "code",
   "execution_count": 171,
   "metadata": {},
   "outputs": [],
   "source": [
    "target_features = total.loc[(total[\"day\"]==7),\n",
    "                           [\"item_brand_id\",\"item_id\",\"user_id\",\"shop_id\",\"is_trade\",\"user_id_shop_id\",\"user_id_item_id\",\"context_timestamp\",\"hour\",\"minute\"]]"
   ]
  },
  {
   "cell_type": "code",
   "execution_count": 172,
   "metadata": {
    "collapsed": true
   },
   "outputs": [],
   "source": [
    "target_features[\"minutes\"] = (target_features[\"hour\"]*60 + target_features[\"minute\"] + 15)"
   ]
  },
  {
   "cell_type": "code",
   "execution_count": 173,
   "metadata": {
    "collapsed": true
   },
   "outputs": [],
   "source": [
    "target_features[\"minutes_30\"] = target_features[\"minutes\"] // 30\n",
    "target_features[\"minutes_3\"] = target_features[\"minutes\"] // 3"
   ]
  },
  {
   "cell_type": "code",
   "execution_count": 174,
   "metadata": {
    "collapsed": true
   },
   "outputs": [],
   "source": [
    "tmp = pd.DataFrame(target_features.groupby([\"item_id\",\"minutes_3\"])[\"is_trade\"].size()).reset_index()\n",
    "tmp.columns = [\"item_id\",\"minutes_3\",\"item_id_minutes_counts\"]\n",
    "target_features = target_features.reset_index().merge(tmp,on=[\"item_id\",\"minutes_3\"], how=\"left\").set_index(\"index\")"
   ]
  },
  {
   "cell_type": "code",
   "execution_count": 175,
   "metadata": {
    "collapsed": true
   },
   "outputs": [],
   "source": [
    "target_features.sort_values(by=['item_id', 'minutes_3'], inplace=True)"
   ]
  },
  {
   "cell_type": "code",
   "execution_count": 176,
   "metadata": {},
   "outputs": [],
   "source": [
    "target_features['positive_item_id_count'] = target_features.groupby(['item_id','minutes_30'])['item_id_minutes_counts'].diff(1)"
   ]
  },
  {
   "cell_type": "code",
   "execution_count": 177,
   "metadata": {},
   "outputs": [],
   "source": [
    "target_features['negative_item_id_count'] = target_features.groupby(['item_id','minutes_30'])['item_id_minutes_counts'].diff(-1)"
   ]
  },
  {
   "cell_type": "code",
   "execution_count": 178,
   "metadata": {
    "collapsed": true
   },
   "outputs": [],
   "source": [
    "target_features = target_features.sort_index()"
   ]
  },
  {
   "cell_type": "code",
   "execution_count": 180,
   "metadata": {},
   "outputs": [],
   "source": [
    "del target_features[\"item_brand_id\"]\n",
    "del target_features[\"item_id\"]\n",
    "del target_features[\"user_id\"]\n",
    "del target_features[\"shop_id\"]\n",
    "del target_features[\"user_id_shop_id\"]\n",
    "del target_features[\"user_id_item_id\"]\n",
    "del target_features[\"context_timestamp\"]\n",
    "del target_features[\"minute\"]\n",
    "del target_features[\"hour\"]\n",
    "del target_features[\"minutes\"]\n",
    "del target_features[\"minutes_30\"]\n",
    "del target_features[\"minutes_3\"]"
   ]
  },
  {
   "cell_type": "code",
   "execution_count": 181,
   "metadata": {},
   "outputs": [],
   "source": [
    "target_features.to_pickle('../../data/processed/flow_feature.pkl')"
   ]
  },
  {
   "cell_type": "code",
   "execution_count": 182,
   "metadata": {},
   "outputs": [
    {
     "data": {
      "text/plain": [
       "(2806831, 4)"
      ]
     },
     "execution_count": 182,
     "metadata": {},
     "output_type": "execute_result"
    }
   ],
   "source": [
    "target_features.shape"
   ]
  },
  {
   "cell_type": "code",
   "execution_count": 183,
   "metadata": {},
   "outputs": [
    {
     "data": {
      "text/html": [
       "<div>\n",
       "<style scoped>\n",
       "    .dataframe tbody tr th:only-of-type {\n",
       "        vertical-align: middle;\n",
       "    }\n",
       "\n",
       "    .dataframe tbody tr th {\n",
       "        vertical-align: top;\n",
       "    }\n",
       "\n",
       "    .dataframe thead th {\n",
       "        text-align: right;\n",
       "    }\n",
       "</style>\n",
       "<table border=\"1\" class=\"dataframe\">\n",
       "  <thead>\n",
       "    <tr style=\"text-align: right;\">\n",
       "      <th></th>\n",
       "      <th>is_trade</th>\n",
       "      <th>item_id_minutes_counts</th>\n",
       "      <th>positive_item_id_count</th>\n",
       "      <th>negative_item_id_count</th>\n",
       "    </tr>\n",
       "    <tr>\n",
       "      <th>index</th>\n",
       "      <th></th>\n",
       "      <th></th>\n",
       "      <th></th>\n",
       "      <th></th>\n",
       "    </tr>\n",
       "  </thead>\n",
       "  <tbody>\n",
       "    <tr>\n",
       "      <th>1488847</th>\n",
       "      <td>0.0</td>\n",
       "      <td>1</td>\n",
       "      <td>0.0</td>\n",
       "      <td>0.0</td>\n",
       "    </tr>\n",
       "    <tr>\n",
       "      <th>1488848</th>\n",
       "      <td>0.0</td>\n",
       "      <td>34</td>\n",
       "      <td>2.0</td>\n",
       "      <td>0.0</td>\n",
       "    </tr>\n",
       "    <tr>\n",
       "      <th>1488849</th>\n",
       "      <td>0.0</td>\n",
       "      <td>8</td>\n",
       "      <td>2.0</td>\n",
       "      <td>0.0</td>\n",
       "    </tr>\n",
       "    <tr>\n",
       "      <th>1488850</th>\n",
       "      <td>0.0</td>\n",
       "      <td>1</td>\n",
       "      <td>0.0</td>\n",
       "      <td>NaN</td>\n",
       "    </tr>\n",
       "    <tr>\n",
       "      <th>1488851</th>\n",
       "      <td>0.0</td>\n",
       "      <td>2</td>\n",
       "      <td>-2.0</td>\n",
       "      <td>0.0</td>\n",
       "    </tr>\n",
       "  </tbody>\n",
       "</table>\n",
       "</div>"
      ],
      "text/plain": [
       "         is_trade  item_id_minutes_counts  positive_item_id_count  \\\n",
       "index                                                               \n",
       "1488847       0.0                       1                     0.0   \n",
       "1488848       0.0                      34                     2.0   \n",
       "1488849       0.0                       8                     2.0   \n",
       "1488850       0.0                       1                     0.0   \n",
       "1488851       0.0                       2                    -2.0   \n",
       "\n",
       "         negative_item_id_count  \n",
       "index                            \n",
       "1488847                     0.0  \n",
       "1488848                     0.0  \n",
       "1488849                     0.0  \n",
       "1488850                     NaN  \n",
       "1488851                     0.0  "
      ]
     },
     "execution_count": 183,
     "metadata": {},
     "output_type": "execute_result"
    }
   ],
   "source": [
    "target_features.head()"
   ]
  },
  {
   "cell_type": "code",
   "execution_count": null,
   "metadata": {
    "collapsed": true
   },
   "outputs": [],
   "source": []
  },
  {
   "cell_type": "code",
   "execution_count": null,
   "metadata": {
    "collapsed": true
   },
   "outputs": [],
   "source": []
  },
  {
   "cell_type": "code",
   "execution_count": 125,
   "metadata": {},
   "outputs": [],
   "source": [
    "tmp = pd.DataFrame(target_features.groupby([\"item_id\",\"minutes_10\"])[\"is_trade\"].mean()).reset_index()\n",
    "tmp.columns = [\"item_id\",\"minutes_10\",\"cvr\"]\n",
    "target_features = target_features.reset_index().merge(tmp,on=[\"item_id\",\"minutes_10\"], how=\"left\").set_index(\"index\")\n",
    "tmp = target_features.loc[:,[\"item_id\",\"item_id_10_minutes_counts\",\"cvr\",\"minutes_10\",\"context_timestamp\"]]\n",
    "tmp.sort_values(by=['item_id', 'minutes_10'], inplace=True)"
   ]
  },
  {
   "cell_type": "code",
   "execution_count": 126,
   "metadata": {
    "collapsed": true
   },
   "outputs": [],
   "source": [
    "import matplotlib.pyplot as plt\n",
    "x = tmp.loc[tmp[\"item_id\"]==9200873080649821191][\"minutes_10\"]\n",
    "counts = tmp.loc[tmp[\"item_id\"]==9200873080649821191][\"item_id_10_minutes_counts\"]\n",
    "cvr = tmp.loc[tmp[\"item_id\"]==9200873080649821191][\"cvr\"]\n",
    "\n",
    "plt.figure(figsize=(20, 6))\n",
    "fig,left_axis=plt.subplots()  \n",
    "right_axis = left_axis.twinx()  \n",
    "\n",
    "p1, = left_axis.plot(x, counts, 'b.-')  \n",
    "p2, = right_axis.plot(x, cvr, 'r.-')  \n",
    "\n",
    "left_axis.set_xlabel('10 mintues')  \n",
    "left_axis.set_ylabel('item_id_10_minutes_counts')  \n",
    "right_axis.set_ylabel('cvr')  \n",
    "\n",
    "\n",
    "plt.show()  "
   ]
  },
  {
   "cell_type": "code",
   "execution_count": null,
   "metadata": {
    "collapsed": true
   },
   "outputs": [],
   "source": []
  }
 ],
 "metadata": {
  "kernelspec": {
   "display_name": "Python 3",
   "language": "python",
   "name": "python3"
  },
  "language_info": {
   "codemirror_mode": {
    "name": "ipython",
    "version": 3
   },
   "file_extension": ".py",
   "mimetype": "text/x-python",
   "name": "python",
   "nbconvert_exporter": "python",
   "pygments_lexer": "ipython3",
   "version": "3.6.4"
  }
 },
 "nbformat": 4,
 "nbformat_minor": 2
}
