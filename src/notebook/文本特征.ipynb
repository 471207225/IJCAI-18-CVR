{
 "cells": [
  {
   "cell_type": "code",
   "execution_count": 1,
   "metadata": {
    "collapsed": true
   },
   "outputs": [],
   "source": [
    "import pandas as pd\n",
    "import gc\n",
    "from sklearn import preprocessing\n",
    "import time\n",
    "import numpy as np\n",
    "import pickle\n",
    "\n",
    "from sklearn.preprocessing import LabelEncoder\n",
    "from gensim.models import Word2Vec"
   ]
  },
  {
   "cell_type": "code",
   "execution_count": 2,
   "metadata": {
    "collapsed": true
   },
   "outputs": [],
   "source": [
    "total =  pickle.load(open('../../data/raw/total_high_level.pkl','rb+'))\n",
    "total = total.reset_index(drop=True)"
   ]
  },
  {
   "cell_type": "code",
   "execution_count": 3,
   "metadata": {
    "collapsed": true
   },
   "outputs": [],
   "source": [
    "def get_itemid_w2v_feature(itemid_df,list_col,w2v_size):\n",
    "    \n",
    "    def featurize_w2v(model, sentences):\n",
    "        f = np.zeros((len(sentences), model.vector_size))\n",
    "        for i,s in enumerate(sentences):\n",
    "            for w in s:\n",
    "                try:\n",
    "                    vec = model[w]\n",
    "                except KeyError:\n",
    "                    continue\n",
    "                f[i,:] = f[i,:] + vec\n",
    "            f[i,:] = f[i,:] / len(s)\n",
    "        return f\n",
    "\n",
    "    def get_sentences(docs):\n",
    "        sentences=[]\n",
    "        for doc in docs:\n",
    "            sentences.append(doc)\n",
    "        return sentences\n",
    "    \n",
    "    \n",
    "    sentences=get_sentences(itemid_df[list_col])\n",
    "    \n",
    "    model = Word2Vec(sentences,sg=1,size=w2v_size, window=5, min_count=5,negative=3,sample=1e-3, workers=30)\n",
    "    #model = Word2Vec(sentences, sg=1, size=vector_size,  window=5, \n",
    "    #min_count=5,  negative=3, sample=0.001, hs=1, workers=16) \n",
    "    model.init_sims(replace=True)\n",
    "    features_w2v = featurize_w2v(model, sentences)\n",
    "    print('feature_w2v.shape=',features_w2v.shape)\n",
    "\n",
    "    print(type(features_w2v))\n",
    "    df=pd.DataFrame(features_w2v)\n",
    "    return df\n"
   ]
  },
  {
   "cell_type": "code",
   "execution_count": 4,
   "metadata": {
    "collapsed": true
   },
   "outputs": [],
   "source": [
    "all_data = total.loc[(total[\"day\"] == 7),\n",
    "              [\"user_id\",\"is_trade\",\"item_id\"]]\n",
    "data=all_data[['user_id','item_id']].drop_duplicates()"
   ]
  },
  {
   "cell_type": "code",
   "execution_count": 5,
   "metadata": {},
   "outputs": [
    {
     "name": "stdout",
     "output_type": "stream",
     "text": [
      "itemid_df.shape= (1115301, 2)\n"
     ]
    },
    {
     "name": "stderr",
     "output_type": "stream",
     "text": [
      "/usr/lib/python3.6/site-packages/ipykernel_launcher.py:8: DeprecationWarning: Call to deprecated `__getitem__` (Method will be removed in 4.0.0, use self.wv.__getitem__() instead).\n",
      "  \n"
     ]
    },
    {
     "name": "stdout",
     "output_type": "stream",
     "text": [
      "feature_w2v.shape= (1115301, 20)\n",
      "<class 'numpy.ndarray'>\n",
      "itemid_df.shape= (1115301, 21)\n",
      "['user_id', 'itemid_0', 'itemid_1', 'itemid_2', 'itemid_3', 'itemid_4', 'itemid_5', 'itemid_6', 'itemid_7', 'itemid_8', 'itemid_9', 'itemid_10', 'itemid_11', 'itemid_12', 'itemid_13', 'itemid_14', 'itemid_15', 'itemid_16', 'itemid_17', 'itemid_18', 'itemid_19']\n",
      "data.shape= (2806831, 23)\n",
      "['user_id', 'is_trade', 'item_id', 'itemid_0', 'itemid_1', 'itemid_2', 'itemid_3', 'itemid_4', 'itemid_5', 'itemid_6', 'itemid_7', 'itemid_8', 'itemid_9', 'itemid_10', 'itemid_11', 'itemid_12', 'itemid_13', 'itemid_14', 'itemid_15', 'itemid_16', 'itemid_17', 'itemid_18', 'itemid_19']\n"
     ]
    }
   ],
   "source": [
    "data['item_idx']=data['item_id'].astype(str)\n",
    "itemid_df=pd.DataFrame(data[['user_id','item_idx']].groupby(['user_id']).apply(lambda df:list(df['item_idx'])),\n",
    "               columns=['itemid_list']).reset_index()\n",
    "\n",
    "#print(itemid_df)\n",
    "\n",
    "itemid_df=itemid_df.reset_index(drop=True)\n",
    "print('itemid_df.shape=',itemid_df.shape)\n",
    "userid_itemid_df=get_itemid_w2v_feature(itemid_df,'itemid_list',20)\n",
    "\n",
    "#\n",
    "col_list=[]\n",
    "for col in userid_itemid_df.columns:\n",
    "    col='itemid_{}'.format(col)\n",
    "    col_list.append(col)\n",
    "userid_itemid_df.columns=col_list\n",
    "\n",
    "\n",
    "itemid_df=itemid_df[['user_id']]\n",
    "itemid_df=pd.concat([itemid_df,userid_itemid_df],axis=1)\n",
    "print('itemid_df.shape=',itemid_df.shape)\n",
    "\n",
    "print(list(itemid_df.columns))\n",
    "\n",
    "data=pd.merge(all_data,itemid_df,on=['user_id'],how='left')\n",
    "print('data.shape=',data.shape)\n",
    "\n",
    "print(list(data.columns)) "
   ]
  },
  {
   "cell_type": "code",
   "execution_count": 6,
   "metadata": {},
   "outputs": [
    {
     "data": {
      "text/html": [
       "<div>\n",
       "<style scoped>\n",
       "    .dataframe tbody tr th:only-of-type {\n",
       "        vertical-align: middle;\n",
       "    }\n",
       "\n",
       "    .dataframe tbody tr th {\n",
       "        vertical-align: top;\n",
       "    }\n",
       "\n",
       "    .dataframe thead th {\n",
       "        text-align: right;\n",
       "    }\n",
       "</style>\n",
       "<table border=\"1\" class=\"dataframe\">\n",
       "  <thead>\n",
       "    <tr style=\"text-align: right;\">\n",
       "      <th></th>\n",
       "      <th>user_id</th>\n",
       "      <th>is_trade</th>\n",
       "      <th>item_id</th>\n",
       "      <th>itemid_0</th>\n",
       "      <th>itemid_1</th>\n",
       "      <th>itemid_2</th>\n",
       "      <th>itemid_3</th>\n",
       "      <th>itemid_4</th>\n",
       "      <th>itemid_5</th>\n",
       "      <th>itemid_6</th>\n",
       "      <th>...</th>\n",
       "      <th>itemid_10</th>\n",
       "      <th>itemid_11</th>\n",
       "      <th>itemid_12</th>\n",
       "      <th>itemid_13</th>\n",
       "      <th>itemid_14</th>\n",
       "      <th>itemid_15</th>\n",
       "      <th>itemid_16</th>\n",
       "      <th>itemid_17</th>\n",
       "      <th>itemid_18</th>\n",
       "      <th>itemid_19</th>\n",
       "    </tr>\n",
       "  </thead>\n",
       "  <tbody>\n",
       "    <tr>\n",
       "      <th>0</th>\n",
       "      <td>1948591143058094954</td>\n",
       "      <td>0.0</td>\n",
       "      <td>6130992895836782798</td>\n",
       "      <td>-0.215636</td>\n",
       "      <td>0.020332</td>\n",
       "      <td>-0.102169</td>\n",
       "      <td>0.259874</td>\n",
       "      <td>0.013196</td>\n",
       "      <td>0.204922</td>\n",
       "      <td>-0.103066</td>\n",
       "      <td>...</td>\n",
       "      <td>0.118232</td>\n",
       "      <td>0.062451</td>\n",
       "      <td>-0.146591</td>\n",
       "      <td>-0.047083</td>\n",
       "      <td>-0.449331</td>\n",
       "      <td>-0.008292</td>\n",
       "      <td>-0.237918</td>\n",
       "      <td>-0.430716</td>\n",
       "      <td>-0.243030</td>\n",
       "      <td>-0.244834</td>\n",
       "    </tr>\n",
       "    <tr>\n",
       "      <th>1</th>\n",
       "      <td>872708064580247819</td>\n",
       "      <td>0.0</td>\n",
       "      <td>4073343759364332469</td>\n",
       "      <td>-0.106216</td>\n",
       "      <td>-0.174949</td>\n",
       "      <td>-0.118760</td>\n",
       "      <td>0.019382</td>\n",
       "      <td>-0.719140</td>\n",
       "      <td>0.182141</td>\n",
       "      <td>-0.319058</td>\n",
       "      <td>...</td>\n",
       "      <td>-0.000216</td>\n",
       "      <td>-0.017675</td>\n",
       "      <td>0.101533</td>\n",
       "      <td>-0.084944</td>\n",
       "      <td>-0.193442</td>\n",
       "      <td>-0.086574</td>\n",
       "      <td>-0.273130</td>\n",
       "      <td>-0.052349</td>\n",
       "      <td>0.249825</td>\n",
       "      <td>-0.078119</td>\n",
       "    </tr>\n",
       "    <tr>\n",
       "      <th>2</th>\n",
       "      <td>6965306421756445937</td>\n",
       "      <td>0.0</td>\n",
       "      <td>8203075321471454721</td>\n",
       "      <td>-0.189647</td>\n",
       "      <td>-0.247550</td>\n",
       "      <td>-0.296116</td>\n",
       "      <td>0.162582</td>\n",
       "      <td>-0.380804</td>\n",
       "      <td>0.128639</td>\n",
       "      <td>-0.047177</td>\n",
       "      <td>...</td>\n",
       "      <td>-0.234222</td>\n",
       "      <td>0.000740</td>\n",
       "      <td>-0.121654</td>\n",
       "      <td>-0.312859</td>\n",
       "      <td>-0.133156</td>\n",
       "      <td>-0.252910</td>\n",
       "      <td>-0.083520</td>\n",
       "      <td>0.139852</td>\n",
       "      <td>0.045737</td>\n",
       "      <td>-0.074842</td>\n",
       "    </tr>\n",
       "    <tr>\n",
       "      <th>3</th>\n",
       "      <td>4598784341952222752</td>\n",
       "      <td>0.0</td>\n",
       "      <td>7268720767506205328</td>\n",
       "      <td>-0.039155</td>\n",
       "      <td>0.064403</td>\n",
       "      <td>-0.120788</td>\n",
       "      <td>0.063752</td>\n",
       "      <td>-0.500863</td>\n",
       "      <td>-0.001021</td>\n",
       "      <td>-0.337384</td>\n",
       "      <td>...</td>\n",
       "      <td>0.053282</td>\n",
       "      <td>0.050538</td>\n",
       "      <td>0.214345</td>\n",
       "      <td>0.033811</td>\n",
       "      <td>-0.458268</td>\n",
       "      <td>-0.101078</td>\n",
       "      <td>-0.257397</td>\n",
       "      <td>-0.001325</td>\n",
       "      <td>0.250155</td>\n",
       "      <td>-0.178058</td>\n",
       "    </tr>\n",
       "    <tr>\n",
       "      <th>4</th>\n",
       "      <td>4148947576527053962</td>\n",
       "      <td>0.0</td>\n",
       "      <td>3179897157347950390</td>\n",
       "      <td>-0.287446</td>\n",
       "      <td>-0.133260</td>\n",
       "      <td>-0.144127</td>\n",
       "      <td>0.111557</td>\n",
       "      <td>-0.087991</td>\n",
       "      <td>0.076147</td>\n",
       "      <td>-0.027746</td>\n",
       "      <td>...</td>\n",
       "      <td>-0.092722</td>\n",
       "      <td>0.106431</td>\n",
       "      <td>-0.067386</td>\n",
       "      <td>-0.201811</td>\n",
       "      <td>-0.228973</td>\n",
       "      <td>-0.112389</td>\n",
       "      <td>-0.114277</td>\n",
       "      <td>-0.125970</td>\n",
       "      <td>-0.030769</td>\n",
       "      <td>-0.340843</td>\n",
       "    </tr>\n",
       "  </tbody>\n",
       "</table>\n",
       "<p>5 rows × 23 columns</p>\n",
       "</div>"
      ],
      "text/plain": [
       "               user_id  is_trade              item_id  itemid_0  itemid_1  \\\n",
       "0  1948591143058094954       0.0  6130992895836782798 -0.215636  0.020332   \n",
       "1   872708064580247819       0.0  4073343759364332469 -0.106216 -0.174949   \n",
       "2  6965306421756445937       0.0  8203075321471454721 -0.189647 -0.247550   \n",
       "3  4598784341952222752       0.0  7268720767506205328 -0.039155  0.064403   \n",
       "4  4148947576527053962       0.0  3179897157347950390 -0.287446 -0.133260   \n",
       "\n",
       "   itemid_2  itemid_3  itemid_4  itemid_5  itemid_6    ...      itemid_10  \\\n",
       "0 -0.102169  0.259874  0.013196  0.204922 -0.103066    ...       0.118232   \n",
       "1 -0.118760  0.019382 -0.719140  0.182141 -0.319058    ...      -0.000216   \n",
       "2 -0.296116  0.162582 -0.380804  0.128639 -0.047177    ...      -0.234222   \n",
       "3 -0.120788  0.063752 -0.500863 -0.001021 -0.337384    ...       0.053282   \n",
       "4 -0.144127  0.111557 -0.087991  0.076147 -0.027746    ...      -0.092722   \n",
       "\n",
       "   itemid_11  itemid_12  itemid_13  itemid_14  itemid_15  itemid_16  \\\n",
       "0   0.062451  -0.146591  -0.047083  -0.449331  -0.008292  -0.237918   \n",
       "1  -0.017675   0.101533  -0.084944  -0.193442  -0.086574  -0.273130   \n",
       "2   0.000740  -0.121654  -0.312859  -0.133156  -0.252910  -0.083520   \n",
       "3   0.050538   0.214345   0.033811  -0.458268  -0.101078  -0.257397   \n",
       "4   0.106431  -0.067386  -0.201811  -0.228973  -0.112389  -0.114277   \n",
       "\n",
       "   itemid_17  itemid_18  itemid_19  \n",
       "0  -0.430716  -0.243030  -0.244834  \n",
       "1  -0.052349   0.249825  -0.078119  \n",
       "2   0.139852   0.045737  -0.074842  \n",
       "3  -0.001325   0.250155  -0.178058  \n",
       "4  -0.125970  -0.030769  -0.340843  \n",
       "\n",
       "[5 rows x 23 columns]"
      ]
     },
     "execution_count": 6,
     "metadata": {},
     "output_type": "execute_result"
    }
   ],
   "source": [
    "data.head()"
   ]
  },
  {
   "cell_type": "code",
   "execution_count": 11,
   "metadata": {
    "collapsed": true
   },
   "outputs": [],
   "source": [
    "data.to_pickle('../../data/processed/all_data_with_history7_1_tw2v.pkl')  #输出:带20维word2vec特征"
   ]
  },
  {
   "cell_type": "code",
   "execution_count": 12,
   "metadata": {},
   "outputs": [
    {
     "data": {
      "text/plain": [
       "(2806831, 23)"
      ]
     },
     "execution_count": 12,
     "metadata": {},
     "output_type": "execute_result"
    }
   ],
   "source": [
    "data.shape"
   ]
  },
  {
   "cell_type": "code",
   "execution_count": null,
   "metadata": {
    "collapsed": true
   },
   "outputs": [],
   "source": []
  }
 ],
 "metadata": {
  "kernelspec": {
   "display_name": "Python 3",
   "language": "python",
   "name": "python3"
  },
  "language_info": {
   "codemirror_mode": {
    "name": "ipython",
    "version": 3
   },
   "file_extension": ".py",
   "mimetype": "text/x-python",
   "name": "python",
   "nbconvert_exporter": "python",
   "pygments_lexer": "ipython3",
   "version": "3.6.3"
  }
 },
 "nbformat": 4,
 "nbformat_minor": 2
}
