{
 "cells": [
  {
   "cell_type": "code",
   "execution_count": 1,
   "metadata": {
    "collapsed": true
   },
   "outputs": [],
   "source": [
    "import pandas as pd\n",
    "import gc\n",
    "from sklearn import preprocessing\n",
    "import time\n",
    "import math\n",
    "import pickle\n",
    "import numpy as np"
   ]
  },
  {
   "cell_type": "code",
   "execution_count": 2,
   "metadata": {
    "collapsed": true
   },
   "outputs": [],
   "source": [
    "total =  pickle.load(open('../../data/raw/total_high_level.pkl','rb+'))\n",
    "total = total.reset_index(drop=True)"
   ]
  },
  {
   "cell_type": "code",
   "execution_count": 3,
   "metadata": {
    "collapsed": true
   },
   "outputs": [],
   "source": [
    "#def timestamp_datetime(value):\n",
    "#    format = '%Y-%m-%d %H:%M:%S'\n",
    "#    value = time.localtime(value)\n",
    "#    dt = time.strftime(format, value)\n",
    "#    return dt\n",
    "#total['context_timestamp'] = total['context_timestamp'].apply(timestamp_datetime)\n",
    "#total['context_timestamp'] = pd.to_datetime(total['context_timestamp'])\n",
    "#total[\"day\"] = total[\"context_timestamp\"].dt.day\n",
    "#total[\"hour\"] = total[\"context_timestamp\"].dt.hour"
   ]
  },
  {
   "cell_type": "code",
   "execution_count": 4,
   "metadata": {
    "collapsed": true
   },
   "outputs": [],
   "source": [
    "data = total.loc[(total[\"context_timestamp\"] >= \"20180907\"),\n",
    "               [\"item_id\",\"item_brand_id\",\"item_city_id\",\"item_category_list\",\"item_property_list\",\n",
    "                \"item_price_level\",\"item_sales_level\",\"item_collected_level\",\"item_pv_level\",\"is_trade\"]]"
   ]
  },
  {
   "cell_type": "code",
   "execution_count": 5,
   "metadata": {
    "collapsed": true
   },
   "outputs": [],
   "source": [
    "lbl = preprocessing.LabelEncoder()\n",
    "for i in range(1, 3):\n",
    "    data['item_category_list' + str(i)] = lbl.fit_transform(data['item_category_list'].map(\n",
    "        lambda x: str(str(x).split(';')[i]) if len(str(x).split(';')) > i else ''))  # item_category_list的第0列全部都一样\n",
    "for i in range(10):\n",
    "    data['item_property_list' + str(i)] = lbl.fit_transform(data['item_property_list'].map(\n",
    "        lambda x: str(str(x).split(';')[i]) if len(str(x).split(';')) > i else ''))"
   ]
  },
  {
   "cell_type": "code",
   "execution_count": 6,
   "metadata": {
    "collapsed": true
   },
   "outputs": [],
   "source": [
    "lbl = preprocessing.LabelEncoder()\n",
    "data[\"item_brand_id\"] = lbl.fit_transform(data['item_brand_id']) \n",
    "data[\"item_city_id\"] = lbl.fit_transform(data['item_city_id']) \n",
    "data[\"item_id\"] = lbl.fit_transform(data['item_id']) \n",
    "data[\"item_brand_id\"] = data[\"item_brand_id\"].apply(lambda x : x % 1009)\n",
    "data[\"item_id\"] = data[\"item_id\"].apply(lambda x : x % 2018)"
   ]
  },
  {
   "cell_type": "code",
   "execution_count": 7,
   "metadata": {
    "collapsed": true
   },
   "outputs": [],
   "source": [
    "#这两个特征跑起来太慢，需要进行大量的切割\n",
    "tmp = data.pop(\"item_category_list\")\n",
    "tmp = data.pop(\"item_property_list\")"
   ]
  },
  {
   "cell_type": "code",
   "execution_count": 8,
   "metadata": {
    "collapsed": true
   },
   "outputs": [],
   "source": [
    "data.to_pickle('../../data/processed/item_feature.pkl')"
   ]
  },
  {
   "cell_type": "code",
   "execution_count": 9,
   "metadata": {},
   "outputs": [
    {
     "data": {
      "text/plain": [
       "1597063"
      ]
     },
     "execution_count": 9,
     "metadata": {},
     "output_type": "execute_result"
    }
   ],
   "source": [
    "len(data)"
   ]
  },
  {
   "cell_type": "code",
   "execution_count": null,
   "metadata": {
    "collapsed": true
   },
   "outputs": [],
   "source": []
  },
  {
   "cell_type": "code",
   "execution_count": null,
   "metadata": {
    "collapsed": true
   },
   "outputs": [],
   "source": []
  },
  {
   "cell_type": "code",
   "execution_count": null,
   "metadata": {
    "collapsed": true
   },
   "outputs": [],
   "source": []
  }
 ],
 "metadata": {
  "kernelspec": {
   "display_name": "Python 3",
   "language": "python",
   "name": "python3"
  },
  "language_info": {
   "codemirror_mode": {
    "name": "ipython",
    "version": 3
   },
   "file_extension": ".py",
   "mimetype": "text/x-python",
   "name": "python",
   "nbconvert_exporter": "python",
   "pygments_lexer": "ipython3",
   "version": "3.6.3"
  }
 },
 "nbformat": 4,
 "nbformat_minor": 2
}
