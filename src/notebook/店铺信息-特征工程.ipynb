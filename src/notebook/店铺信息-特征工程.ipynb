{
 "cells": [
  {
   "cell_type": "code",
   "execution_count": 1,
   "metadata": {
    "collapsed": true
   },
   "outputs": [],
   "source": [
    "import pandas as pd\n",
    "import gc\n",
    "from sklearn import preprocessing\n",
    "import time\n",
    "import math\n",
    "import pickle\n",
    "import numpy as np"
   ]
  },
  {
   "cell_type": "code",
   "execution_count": 2,
   "metadata": {
    "collapsed": true
   },
   "outputs": [],
   "source": [
    "total =  pickle.load(open('../../data/raw/total_high_level.pkl','rb+'))\n",
    "total = total.reset_index(drop=True)"
   ]
  },
  {
   "cell_type": "code",
   "execution_count": 3,
   "metadata": {
    "collapsed": true
   },
   "outputs": [],
   "source": [
    "#def timestamp_datetime(value):\n",
    "#    format = '%Y-%m-%d %H:%M:%S'\n",
    "#    value = time.localtime(value)\n",
    "#    dt = time.strftime(format, value)\n",
    "#    return dt\n",
    "#total['context_timestamp'] = total['context_timestamp'].apply(timestamp_datetime)\n",
    "#total['context_timestamp'] = pd.to_datetime(total['context_timestamp'])\n",
    "#total[\"day\"] = total[\"context_timestamp\"].dt.day\n",
    "#total[\"hour\"] = total[\"context_timestamp\"].dt.hour"
   ]
  },
  {
   "cell_type": "code",
   "execution_count": 4,
   "metadata": {
    "collapsed": true
   },
   "outputs": [],
   "source": [
    "data = total.loc[(total[\"context_timestamp\"] >= \"20180907\"),\n",
    "                 [\"shop_review_num_level\",\"shop_review_positive_rate\",\"shop_star_level\",\n",
    "                  \"shop_score_service\",\"shop_score_delivery\",\"shop_score_description\",\n",
    "                  \"is_trade\",\"shop_id\"]]"
   ]
  },
  {
   "cell_type": "code",
   "execution_count": null,
   "metadata": {
    "collapsed": true
   },
   "outputs": [],
   "source": []
  },
  {
   "cell_type": "code",
   "execution_count": 6,
   "metadata": {
    "collapsed": true
   },
   "outputs": [],
   "source": [
    "lbl = preprocessing.LabelEncoder()\n",
    "data[\"shop_id\"] = lbl.fit_transform(data['shop_id']) \n",
    "data[\"shop_id\"] = data[\"shop_id\"].apply(lambda x : x % 4036)"
   ]
  },
  {
   "cell_type": "code",
   "execution_count": 7,
   "metadata": {
    "collapsed": true
   },
   "outputs": [],
   "source": [
    "data.to_pickle('../../data/processed/shop_feature.pkl')"
   ]
  },
  {
   "cell_type": "code",
   "execution_count": 8,
   "metadata": {
    "collapsed": true
   },
   "outputs": [],
   "source": [
    "data.shape"
   ]
  },
  {
   "cell_type": "code",
   "execution_count": null,
   "metadata": {
    "collapsed": true
   },
   "outputs": [],
   "source": []
  }
 ],
 "metadata": {
  "kernelspec": {
   "display_name": "Python 3",
   "language": "python",
   "name": "python3"
  },
  "language_info": {
   "codemirror_mode": {
    "name": "ipython",
    "version": 3
   },
   "file_extension": ".py",
   "mimetype": "text/x-python",
   "name": "python",
   "nbconvert_exporter": "python",
   "pygments_lexer": "ipython3",
   "version": "3.6.4"
  }
 },
 "nbformat": 4,
 "nbformat_minor": 2
}
